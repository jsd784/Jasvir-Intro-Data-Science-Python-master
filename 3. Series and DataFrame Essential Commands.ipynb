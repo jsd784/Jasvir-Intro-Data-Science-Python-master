{
 "cells": [
  {
   "cell_type": "markdown",
   "metadata": {},
   "source": [
    "# Series Essential Methods\n",
    "\n",
    "The most common and simple Series methods will be covered.\n",
    "\n",
    "### Objectives\n",
    "* Arithmetic operators\n",
    "* Summary statistic methods\n",
    "* **`str`** accessor for strings\n",
    "* Boolean arithmetic\n",
    "* Case Study: Do people with more experience make more money?\n",
    "\n",
    "\n",
    "# Arithmetic Operators\n",
    "Typically, the arithmetic operators `+, -, *, /, //, **`, are used on a single column of data since most datasets have a mix of numeric and string data."
   ]
  },
  {
   "cell_type": "code",
   "execution_count": 1,
   "metadata": {},
   "outputs": [],
   "source": [
    "import pandas as pd"
   ]
  },
  {
   "cell_type": "markdown",
   "metadata": {},
   "source": [
    "### Read in the employee dataset and get some metadata on it"
   ]
  },
  {
   "cell_type": "code",
   "execution_count": 12,
   "metadata": {},
   "outputs": [
    {
     "data": {
      "text/html": [
       "<div>\n",
       "<style scoped>\n",
       "    .dataframe tbody tr th:only-of-type {\n",
       "        vertical-align: middle;\n",
       "    }\n",
       "\n",
       "    .dataframe tbody tr th {\n",
       "        vertical-align: top;\n",
       "    }\n",
       "\n",
       "    .dataframe thead th {\n",
       "        text-align: right;\n",
       "    }\n",
       "</style>\n",
       "<table border=\"1\" class=\"dataframe\">\n",
       "  <thead>\n",
       "    <tr style=\"text-align: right;\">\n",
       "      <th></th>\n",
       "      <th>UNIQUE_ID</th>\n",
       "      <th>POSITION_TITLE</th>\n",
       "      <th>DEPARTMENT</th>\n",
       "      <th>BASE_SALARY</th>\n",
       "      <th>RACE</th>\n",
       "      <th>EMPLOYMENT_TYPE</th>\n",
       "      <th>GENDER</th>\n",
       "      <th>EMPLOYMENT_STATUS</th>\n",
       "      <th>HIRE_DATE</th>\n",
       "      <th>JOB_DATE</th>\n",
       "    </tr>\n",
       "  </thead>\n",
       "  <tbody>\n",
       "    <tr>\n",
       "      <th>0</th>\n",
       "      <td>5906</td>\n",
       "      <td>ASSISTANT DIRECTOR (EX LVL)</td>\n",
       "      <td>Municipal Courts Department</td>\n",
       "      <td>121862.0</td>\n",
       "      <td>Hispanic/Latino</td>\n",
       "      <td>Full Time</td>\n",
       "      <td>Female</td>\n",
       "      <td>Active</td>\n",
       "      <td>2006-06-12</td>\n",
       "      <td>2012-10-13</td>\n",
       "    </tr>\n",
       "    <tr>\n",
       "      <th>1</th>\n",
       "      <td>364</td>\n",
       "      <td>LIBRARY ASSISTANT</td>\n",
       "      <td>Library</td>\n",
       "      <td>26125.0</td>\n",
       "      <td>Hispanic/Latino</td>\n",
       "      <td>Full Time</td>\n",
       "      <td>Female</td>\n",
       "      <td>Active</td>\n",
       "      <td>2000-07-19</td>\n",
       "      <td>2010-09-18</td>\n",
       "    </tr>\n",
       "    <tr>\n",
       "      <th>2</th>\n",
       "      <td>1286</td>\n",
       "      <td>POLICE OFFICER</td>\n",
       "      <td>Houston Police Department-HPD</td>\n",
       "      <td>45279.0</td>\n",
       "      <td>White</td>\n",
       "      <td>Full Time</td>\n",
       "      <td>Male</td>\n",
       "      <td>Active</td>\n",
       "      <td>2015-02-03</td>\n",
       "      <td>2015-02-03</td>\n",
       "    </tr>\n",
       "    <tr>\n",
       "      <th>3</th>\n",
       "      <td>8789</td>\n",
       "      <td>ENGINEER/OPERATOR</td>\n",
       "      <td>Houston Fire Department (HFD)</td>\n",
       "      <td>63166.0</td>\n",
       "      <td>White</td>\n",
       "      <td>Full Time</td>\n",
       "      <td>Male</td>\n",
       "      <td>Active</td>\n",
       "      <td>1982-02-08</td>\n",
       "      <td>1991-05-25</td>\n",
       "    </tr>\n",
       "    <tr>\n",
       "      <th>4</th>\n",
       "      <td>8542</td>\n",
       "      <td>ELECTRICIAN</td>\n",
       "      <td>General Services Department</td>\n",
       "      <td>56347.0</td>\n",
       "      <td>White</td>\n",
       "      <td>Full Time</td>\n",
       "      <td>Male</td>\n",
       "      <td>Active</td>\n",
       "      <td>1989-06-19</td>\n",
       "      <td>1994-10-22</td>\n",
       "    </tr>\n",
       "  </tbody>\n",
       "</table>\n",
       "</div>"
      ],
      "text/plain": [
       "   UNIQUE_ID               POSITION_TITLE                     DEPARTMENT  \\\n",
       "0       5906  ASSISTANT DIRECTOR (EX LVL)    Municipal Courts Department   \n",
       "1        364            LIBRARY ASSISTANT                        Library   \n",
       "2       1286               POLICE OFFICER  Houston Police Department-HPD   \n",
       "3       8789            ENGINEER/OPERATOR  Houston Fire Department (HFD)   \n",
       "4       8542                  ELECTRICIAN    General Services Department   \n",
       "\n",
       "   BASE_SALARY             RACE EMPLOYMENT_TYPE  GENDER EMPLOYMENT_STATUS  \\\n",
       "0     121862.0  Hispanic/Latino       Full Time  Female            Active   \n",
       "1      26125.0  Hispanic/Latino       Full Time  Female            Active   \n",
       "2      45279.0            White       Full Time    Male            Active   \n",
       "3      63166.0            White       Full Time    Male            Active   \n",
       "4      56347.0            White       Full Time    Male            Active   \n",
       "\n",
       "    HIRE_DATE    JOB_DATE  \n",
       "0  2006-06-12  2012-10-13  \n",
       "1  2000-07-19  2010-09-18  \n",
       "2  2015-02-03  2015-02-03  \n",
       "3  1982-02-08  1991-05-25  \n",
       "4  1989-06-19  1994-10-22  "
      ]
     },
     "execution_count": 12,
     "metadata": {},
     "output_type": "execute_result"
    }
   ],
   "source": [
    "employee = pd.read_csv('data/employee.csv')\n",
    "employee.head()"
   ]
  },
  {
   "cell_type": "code",
   "execution_count": 3,
   "metadata": {},
   "outputs": [
    {
     "data": {
      "text/plain": [
       "(2000, 10)"
      ]
     },
     "execution_count": 3,
     "metadata": {},
     "output_type": "execute_result"
    }
   ],
   "source": [
    "employee.shape"
   ]
  },
  {
   "cell_type": "code",
   "execution_count": 4,
   "metadata": {},
   "outputs": [
    {
     "name": "stdout",
     "output_type": "stream",
     "text": [
      "<class 'pandas.core.frame.DataFrame'>\n",
      "RangeIndex: 2000 entries, 0 to 1999\n",
      "Data columns (total 10 columns):\n",
      "UNIQUE_ID            2000 non-null int64\n",
      "POSITION_TITLE       2000 non-null object\n",
      "DEPARTMENT           2000 non-null object\n",
      "BASE_SALARY          1886 non-null float64\n",
      "RACE                 1965 non-null object\n",
      "EMPLOYMENT_TYPE      2000 non-null object\n",
      "GENDER               2000 non-null object\n",
      "EMPLOYMENT_STATUS    2000 non-null object\n",
      "HIRE_DATE            2000 non-null object\n",
      "JOB_DATE             1997 non-null object\n",
      "dtypes: float64(1), int64(1), object(8)\n",
      "memory usage: 156.3+ KB\n"
     ]
    }
   ],
   "source": [
    "employee.info()"
   ]
  },
  {
   "cell_type": "markdown",
   "metadata": {},
   "source": [
    "# Select a Numeric Column for arithmetic operations"
   ]
  },
  {
   "cell_type": "code",
   "execution_count": 5,
   "metadata": {},
   "outputs": [
    {
     "data": {
      "text/plain": [
       "0    121862.0\n",
       "1     26125.0\n",
       "2     45279.0\n",
       "3     63166.0\n",
       "4     56347.0\n",
       "Name: BASE_SALARY, dtype: float64"
      ]
     },
     "execution_count": 5,
     "metadata": {},
     "output_type": "execute_result"
    }
   ],
   "source": [
    "salary = employee['BASE_SALARY']\n",
    "salary.head()"
   ]
  },
  {
   "cell_type": "code",
   "execution_count": 6,
   "metadata": {},
   "outputs": [
    {
     "data": {
      "text/plain": [
       "pandas.core.series.Series"
      ]
     },
     "execution_count": 6,
     "metadata": {},
     "output_type": "execute_result"
    }
   ],
   "source": [
    "type(salary)"
   ]
  },
  {
   "cell_type": "code",
   "execution_count": 7,
   "metadata": {},
   "outputs": [
    {
     "data": {
      "text/plain": [
       "0       121962.0\n",
       "1        26225.0\n",
       "2        45379.0\n",
       "3        63266.0\n",
       "4        56447.0\n",
       "5        66714.0\n",
       "6        71780.0\n",
       "7        42490.0\n",
       "8       108062.0\n",
       "9        44716.0\n",
       "10       52744.0\n",
       "11      180516.0\n",
       "12       30447.0\n",
       "13       55369.0\n",
       "14       77176.0\n",
       "15           NaN\n",
       "16           NaN\n",
       "17       81339.0\n",
       "18       40681.0\n",
       "19       66714.0\n",
       "20       61606.0\n",
       "21       57915.0\n",
       "22       43364.0\n",
       "23       55537.0\n",
       "24       52614.0\n",
       "25       61743.0\n",
       "26           NaN\n",
       "27       66714.0\n",
       "28       81339.0\n",
       "29       29657.0\n",
       "          ...   \n",
       "1970     66714.0\n",
       "1971     45379.0\n",
       "1972     63266.0\n",
       "1973     77425.0\n",
       "1974     66714.0\n",
       "1975     32257.0\n",
       "1976     34566.0\n",
       "1977     45379.0\n",
       "1978     28014.0\n",
       "1979     66714.0\n",
       "1980         NaN\n",
       "1981     70281.0\n",
       "1982     55537.0\n",
       "1983     55272.0\n",
       "1984     62021.0\n",
       "1985     30322.0\n",
       "1986     77176.0\n",
       "1987         NaN\n",
       "1988    124215.0\n",
       "1989     37311.0\n",
       "1990     30447.0\n",
       "1991     44529.0\n",
       "1992     29386.0\n",
       "1993     81339.0\n",
       "1994    104555.0\n",
       "1995     43543.0\n",
       "1996     66623.0\n",
       "1997     43543.0\n",
       "1998     55561.0\n",
       "1999     51294.0\n",
       "Name: BASE_SALARY, Length: 2000, dtype: float64"
      ]
     },
     "execution_count": 7,
     "metadata": {},
     "output_type": "execute_result"
    }
   ],
   "source": [
    "salary + 100"
   ]
  },
  {
   "cell_type": "code",
   "execution_count": 8,
   "metadata": {},
   "outputs": [
    {
     "data": {
      "text/plain": [
       "0    1218620.0\n",
       "1     261250.0\n",
       "2     452790.0\n",
       "3     631660.0\n",
       "4     563470.0\n",
       "Name: BASE_SALARY, dtype: float64"
      ]
     },
     "execution_count": 8,
     "metadata": {},
     "output_type": "execute_result"
    }
   ],
   "source": [
    "(salary * 10).head()"
   ]
  },
  {
   "cell_type": "code",
   "execution_count": 9,
   "metadata": {},
   "outputs": [],
   "source": [
    "salary_10x = salary * 10"
   ]
  },
  {
   "cell_type": "code",
   "execution_count": 10,
   "metadata": {},
   "outputs": [
    {
     "data": {
      "text/plain": [
       "0    1218620.0\n",
       "1     261250.0\n",
       "2     452790.0\n",
       "3     631660.0\n",
       "4     563470.0\n",
       "Name: BASE_SALARY, dtype: float64"
      ]
     },
     "execution_count": 10,
     "metadata": {},
     "output_type": "execute_result"
    }
   ],
   "source": [
    "salary_10x.head()"
   ]
  },
  {
   "cell_type": "code",
   "execution_count": 13,
   "metadata": {},
   "outputs": [
    {
     "ename": "TypeError",
     "evalue": "Could not operate 100 with block values must be str, not int",
     "output_type": "error",
     "traceback": [
      "\u001b[0;31m---------------------------------------------------------------------------\u001b[0m",
      "\u001b[0;31mTypeError\u001b[0m                                 Traceback (most recent call last)",
      "\u001b[0;32m~/anaconda3/lib/python3.6/site-packages/pandas/core/ops.py\u001b[0m in \u001b[0;36mna_op\u001b[0;34m(x, y)\u001b[0m\n\u001b[1;32m   1201\u001b[0m         \u001b[0;32mtry\u001b[0m\u001b[0;34m:\u001b[0m\u001b[0;34m\u001b[0m\u001b[0m\n\u001b[0;32m-> 1202\u001b[0;31m             \u001b[0mresult\u001b[0m \u001b[0;34m=\u001b[0m \u001b[0mexpressions\u001b[0m\u001b[0;34m.\u001b[0m\u001b[0mevaluate\u001b[0m\u001b[0;34m(\u001b[0m\u001b[0mop\u001b[0m\u001b[0;34m,\u001b[0m \u001b[0mstr_rep\u001b[0m\u001b[0;34m,\u001b[0m \u001b[0mx\u001b[0m\u001b[0;34m,\u001b[0m \u001b[0my\u001b[0m\u001b[0;34m,\u001b[0m \u001b[0;34m**\u001b[0m\u001b[0meval_kwargs\u001b[0m\u001b[0;34m)\u001b[0m\u001b[0;34m\u001b[0m\u001b[0m\n\u001b[0m\u001b[1;32m   1203\u001b[0m         \u001b[0;32mexcept\u001b[0m \u001b[0mTypeError\u001b[0m\u001b[0;34m:\u001b[0m\u001b[0;34m\u001b[0m\u001b[0m\n",
      "\u001b[0;32m~/anaconda3/lib/python3.6/site-packages/pandas/core/computation/expressions.py\u001b[0m in \u001b[0;36mevaluate\u001b[0;34m(op, op_str, a, b, use_numexpr, **eval_kwargs)\u001b[0m\n\u001b[1;32m    203\u001b[0m     \u001b[0;32mif\u001b[0m \u001b[0muse_numexpr\u001b[0m\u001b[0;34m:\u001b[0m\u001b[0;34m\u001b[0m\u001b[0m\n\u001b[0;32m--> 204\u001b[0;31m         \u001b[0;32mreturn\u001b[0m \u001b[0m_evaluate\u001b[0m\u001b[0;34m(\u001b[0m\u001b[0mop\u001b[0m\u001b[0;34m,\u001b[0m \u001b[0mop_str\u001b[0m\u001b[0;34m,\u001b[0m \u001b[0ma\u001b[0m\u001b[0;34m,\u001b[0m \u001b[0mb\u001b[0m\u001b[0;34m,\u001b[0m \u001b[0;34m**\u001b[0m\u001b[0meval_kwargs\u001b[0m\u001b[0;34m)\u001b[0m\u001b[0;34m\u001b[0m\u001b[0m\n\u001b[0m\u001b[1;32m    205\u001b[0m     \u001b[0;32mreturn\u001b[0m \u001b[0m_evaluate_standard\u001b[0m\u001b[0;34m(\u001b[0m\u001b[0mop\u001b[0m\u001b[0;34m,\u001b[0m \u001b[0mop_str\u001b[0m\u001b[0;34m,\u001b[0m \u001b[0ma\u001b[0m\u001b[0;34m,\u001b[0m \u001b[0mb\u001b[0m\u001b[0;34m)\u001b[0m\u001b[0;34m\u001b[0m\u001b[0m\n",
      "\u001b[0;32m~/anaconda3/lib/python3.6/site-packages/pandas/core/computation/expressions.py\u001b[0m in \u001b[0;36m_evaluate_numexpr\u001b[0;34m(op, op_str, a, b, truediv, reversed, **eval_kwargs)\u001b[0m\n\u001b[1;32m    118\u001b[0m     \u001b[0;32mif\u001b[0m \u001b[0mresult\u001b[0m \u001b[0;32mis\u001b[0m \u001b[0;32mNone\u001b[0m\u001b[0;34m:\u001b[0m\u001b[0;34m\u001b[0m\u001b[0m\n\u001b[0;32m--> 119\u001b[0;31m         \u001b[0mresult\u001b[0m \u001b[0;34m=\u001b[0m \u001b[0m_evaluate_standard\u001b[0m\u001b[0;34m(\u001b[0m\u001b[0mop\u001b[0m\u001b[0;34m,\u001b[0m \u001b[0mop_str\u001b[0m\u001b[0;34m,\u001b[0m \u001b[0ma\u001b[0m\u001b[0;34m,\u001b[0m \u001b[0mb\u001b[0m\u001b[0;34m)\u001b[0m\u001b[0;34m\u001b[0m\u001b[0m\n\u001b[0m\u001b[1;32m    120\u001b[0m \u001b[0;34m\u001b[0m\u001b[0m\n",
      "\u001b[0;32m~/anaconda3/lib/python3.6/site-packages/pandas/core/computation/expressions.py\u001b[0m in \u001b[0;36m_evaluate_standard\u001b[0;34m(op, op_str, a, b, **eval_kwargs)\u001b[0m\n\u001b[1;32m     63\u001b[0m     \u001b[0;32mwith\u001b[0m \u001b[0mnp\u001b[0m\u001b[0;34m.\u001b[0m\u001b[0merrstate\u001b[0m\u001b[0;34m(\u001b[0m\u001b[0mall\u001b[0m\u001b[0;34m=\u001b[0m\u001b[0;34m'ignore'\u001b[0m\u001b[0;34m)\u001b[0m\u001b[0;34m:\u001b[0m\u001b[0;34m\u001b[0m\u001b[0m\n\u001b[0;32m---> 64\u001b[0;31m         \u001b[0;32mreturn\u001b[0m \u001b[0mop\u001b[0m\u001b[0;34m(\u001b[0m\u001b[0ma\u001b[0m\u001b[0;34m,\u001b[0m \u001b[0mb\u001b[0m\u001b[0;34m)\u001b[0m\u001b[0;34m\u001b[0m\u001b[0m\n\u001b[0m\u001b[1;32m     65\u001b[0m \u001b[0;34m\u001b[0m\u001b[0m\n",
      "\u001b[0;31mTypeError\u001b[0m: must be str, not int",
      "\nDuring handling of the above exception, another exception occurred:\n",
      "\u001b[0;31mTypeError\u001b[0m                                 Traceback (most recent call last)",
      "\u001b[0;32m~/anaconda3/lib/python3.6/site-packages/pandas/core/internals.py\u001b[0m in \u001b[0;36meval\u001b[0;34m(self, func, other, errors, try_cast, mgr)\u001b[0m\n\u001b[1;32m   1376\u001b[0m             \u001b[0;32mwith\u001b[0m \u001b[0mnp\u001b[0m\u001b[0;34m.\u001b[0m\u001b[0merrstate\u001b[0m\u001b[0;34m(\u001b[0m\u001b[0mall\u001b[0m\u001b[0;34m=\u001b[0m\u001b[0;34m'ignore'\u001b[0m\u001b[0;34m)\u001b[0m\u001b[0;34m:\u001b[0m\u001b[0;34m\u001b[0m\u001b[0m\n\u001b[0;32m-> 1377\u001b[0;31m                 \u001b[0mresult\u001b[0m \u001b[0;34m=\u001b[0m \u001b[0mget_result\u001b[0m\u001b[0;34m(\u001b[0m\u001b[0mother\u001b[0m\u001b[0;34m)\u001b[0m\u001b[0;34m\u001b[0m\u001b[0m\n\u001b[0m\u001b[1;32m   1378\u001b[0m \u001b[0;34m\u001b[0m\u001b[0m\n",
      "\u001b[0;32m~/anaconda3/lib/python3.6/site-packages/pandas/core/internals.py\u001b[0m in \u001b[0;36mget_result\u001b[0;34m(other)\u001b[0m\n\u001b[1;32m   1345\u001b[0m             \u001b[0;32melse\u001b[0m\u001b[0;34m:\u001b[0m\u001b[0;34m\u001b[0m\u001b[0m\n\u001b[0;32m-> 1346\u001b[0;31m                 \u001b[0mresult\u001b[0m \u001b[0;34m=\u001b[0m \u001b[0mfunc\u001b[0m\u001b[0;34m(\u001b[0m\u001b[0mvalues\u001b[0m\u001b[0;34m,\u001b[0m \u001b[0mother\u001b[0m\u001b[0;34m)\u001b[0m\u001b[0;34m\u001b[0m\u001b[0m\n\u001b[0m\u001b[1;32m   1347\u001b[0m \u001b[0;34m\u001b[0m\u001b[0m\n",
      "\u001b[0;32m~/anaconda3/lib/python3.6/site-packages/pandas/core/ops.py\u001b[0m in \u001b[0;36mna_op\u001b[0;34m(x, y)\u001b[0m\n\u001b[1;32m   1227\u001b[0m                     \u001b[0;32mwith\u001b[0m \u001b[0mnp\u001b[0m\u001b[0;34m.\u001b[0m\u001b[0merrstate\u001b[0m\u001b[0;34m(\u001b[0m\u001b[0mall\u001b[0m\u001b[0;34m=\u001b[0m\u001b[0;34m'ignore'\u001b[0m\u001b[0;34m)\u001b[0m\u001b[0;34m:\u001b[0m\u001b[0;34m\u001b[0m\u001b[0m\n\u001b[0;32m-> 1228\u001b[0;31m                         \u001b[0mresult\u001b[0m\u001b[0;34m[\u001b[0m\u001b[0mmask\u001b[0m\u001b[0;34m]\u001b[0m \u001b[0;34m=\u001b[0m \u001b[0mop\u001b[0m\u001b[0;34m(\u001b[0m\u001b[0mxrav\u001b[0m\u001b[0;34m,\u001b[0m \u001b[0my\u001b[0m\u001b[0;34m)\u001b[0m\u001b[0;34m\u001b[0m\u001b[0m\n\u001b[0m\u001b[1;32m   1229\u001b[0m             \u001b[0;32melse\u001b[0m\u001b[0;34m:\u001b[0m\u001b[0;34m\u001b[0m\u001b[0m\n",
      "\u001b[0;31mTypeError\u001b[0m: must be str, not int",
      "\nDuring handling of the above exception, another exception occurred:\n",
      "\u001b[0;31mTypeError\u001b[0m                                 Traceback (most recent call last)",
      "\u001b[0;32m<ipython-input-13-ea72b097ac52>\u001b[0m in \u001b[0;36m<module>\u001b[0;34m()\u001b[0m\n\u001b[1;32m      1\u001b[0m \u001b[0;31m# typically we do not do arithmetic operations to entire dataframes\u001b[0m\u001b[0;34m\u001b[0m\u001b[0;34m\u001b[0m\u001b[0m\n\u001b[0;32m----> 2\u001b[0;31m \u001b[0memployee\u001b[0m \u001b[0;34m+\u001b[0m \u001b[0;36m100\u001b[0m\u001b[0;34m\u001b[0m\u001b[0m\n\u001b[0m",
      "\u001b[0;32m~/anaconda3/lib/python3.6/site-packages/pandas/core/ops.py\u001b[0m in \u001b[0;36mf\u001b[0;34m(self, other, axis, level, fill_value)\u001b[0m\n\u001b[1;32m   1265\u001b[0m                 \u001b[0mself\u001b[0m \u001b[0;34m=\u001b[0m \u001b[0mself\u001b[0m\u001b[0;34m.\u001b[0m\u001b[0mfillna\u001b[0m\u001b[0;34m(\u001b[0m\u001b[0mfill_value\u001b[0m\u001b[0;34m)\u001b[0m\u001b[0;34m\u001b[0m\u001b[0m\n\u001b[1;32m   1266\u001b[0m \u001b[0;34m\u001b[0m\u001b[0m\n\u001b[0;32m-> 1267\u001b[0;31m             \u001b[0;32mreturn\u001b[0m \u001b[0mself\u001b[0m\u001b[0;34m.\u001b[0m\u001b[0m_combine_const\u001b[0m\u001b[0;34m(\u001b[0m\u001b[0mother\u001b[0m\u001b[0;34m,\u001b[0m \u001b[0mna_op\u001b[0m\u001b[0;34m)\u001b[0m\u001b[0;34m\u001b[0m\u001b[0m\n\u001b[0m\u001b[1;32m   1268\u001b[0m \u001b[0;34m\u001b[0m\u001b[0m\n\u001b[1;32m   1269\u001b[0m     \u001b[0mf\u001b[0m\u001b[0;34m.\u001b[0m\u001b[0m__name__\u001b[0m \u001b[0;34m=\u001b[0m \u001b[0mname\u001b[0m\u001b[0;34m\u001b[0m\u001b[0m\n",
      "\u001b[0;32m~/anaconda3/lib/python3.6/site-packages/pandas/core/frame.py\u001b[0m in \u001b[0;36m_combine_const\u001b[0;34m(self, other, func, errors, try_cast)\u001b[0m\n\u001b[1;32m   3985\u001b[0m         new_data = self._data.eval(func=func, other=other,\n\u001b[1;32m   3986\u001b[0m                                    \u001b[0merrors\u001b[0m\u001b[0;34m=\u001b[0m\u001b[0merrors\u001b[0m\u001b[0;34m,\u001b[0m\u001b[0;34m\u001b[0m\u001b[0m\n\u001b[0;32m-> 3987\u001b[0;31m                                    try_cast=try_cast)\n\u001b[0m\u001b[1;32m   3988\u001b[0m         \u001b[0;32mreturn\u001b[0m \u001b[0mself\u001b[0m\u001b[0;34m.\u001b[0m\u001b[0m_constructor\u001b[0m\u001b[0;34m(\u001b[0m\u001b[0mnew_data\u001b[0m\u001b[0;34m)\u001b[0m\u001b[0;34m\u001b[0m\u001b[0m\n\u001b[1;32m   3989\u001b[0m \u001b[0;34m\u001b[0m\u001b[0m\n",
      "\u001b[0;32m~/anaconda3/lib/python3.6/site-packages/pandas/core/internals.py\u001b[0m in \u001b[0;36meval\u001b[0;34m(self, **kwargs)\u001b[0m\n\u001b[1;32m   3433\u001b[0m \u001b[0;34m\u001b[0m\u001b[0m\n\u001b[1;32m   3434\u001b[0m     \u001b[0;32mdef\u001b[0m \u001b[0meval\u001b[0m\u001b[0;34m(\u001b[0m\u001b[0mself\u001b[0m\u001b[0;34m,\u001b[0m \u001b[0;34m**\u001b[0m\u001b[0mkwargs\u001b[0m\u001b[0;34m)\u001b[0m\u001b[0;34m:\u001b[0m\u001b[0;34m\u001b[0m\u001b[0m\n\u001b[0;32m-> 3435\u001b[0;31m         \u001b[0;32mreturn\u001b[0m \u001b[0mself\u001b[0m\u001b[0;34m.\u001b[0m\u001b[0mapply\u001b[0m\u001b[0;34m(\u001b[0m\u001b[0;34m'eval'\u001b[0m\u001b[0;34m,\u001b[0m \u001b[0;34m**\u001b[0m\u001b[0mkwargs\u001b[0m\u001b[0;34m)\u001b[0m\u001b[0;34m\u001b[0m\u001b[0m\n\u001b[0m\u001b[1;32m   3436\u001b[0m \u001b[0;34m\u001b[0m\u001b[0m\n\u001b[1;32m   3437\u001b[0m     \u001b[0;32mdef\u001b[0m \u001b[0mquantile\u001b[0m\u001b[0;34m(\u001b[0m\u001b[0mself\u001b[0m\u001b[0;34m,\u001b[0m \u001b[0;34m**\u001b[0m\u001b[0mkwargs\u001b[0m\u001b[0;34m)\u001b[0m\u001b[0;34m:\u001b[0m\u001b[0;34m\u001b[0m\u001b[0m\n",
      "\u001b[0;32m~/anaconda3/lib/python3.6/site-packages/pandas/core/internals.py\u001b[0m in \u001b[0;36mapply\u001b[0;34m(self, f, axes, filter, do_integrity_check, consolidate, **kwargs)\u001b[0m\n\u001b[1;32m   3327\u001b[0m \u001b[0;34m\u001b[0m\u001b[0m\n\u001b[1;32m   3328\u001b[0m             \u001b[0mkwargs\u001b[0m\u001b[0;34m[\u001b[0m\u001b[0;34m'mgr'\u001b[0m\u001b[0;34m]\u001b[0m \u001b[0;34m=\u001b[0m \u001b[0mself\u001b[0m\u001b[0;34m\u001b[0m\u001b[0m\n\u001b[0;32m-> 3329\u001b[0;31m             \u001b[0mapplied\u001b[0m \u001b[0;34m=\u001b[0m \u001b[0mgetattr\u001b[0m\u001b[0;34m(\u001b[0m\u001b[0mb\u001b[0m\u001b[0;34m,\u001b[0m \u001b[0mf\u001b[0m\u001b[0;34m)\u001b[0m\u001b[0;34m(\u001b[0m\u001b[0;34m**\u001b[0m\u001b[0mkwargs\u001b[0m\u001b[0;34m)\u001b[0m\u001b[0;34m\u001b[0m\u001b[0m\n\u001b[0m\u001b[1;32m   3330\u001b[0m             \u001b[0mresult_blocks\u001b[0m \u001b[0;34m=\u001b[0m \u001b[0m_extend_blocks\u001b[0m\u001b[0;34m(\u001b[0m\u001b[0mapplied\u001b[0m\u001b[0;34m,\u001b[0m \u001b[0mresult_blocks\u001b[0m\u001b[0;34m)\u001b[0m\u001b[0;34m\u001b[0m\u001b[0m\n\u001b[1;32m   3331\u001b[0m \u001b[0;34m\u001b[0m\u001b[0m\n",
      "\u001b[0;32m~/anaconda3/lib/python3.6/site-packages/pandas/core/internals.py\u001b[0m in \u001b[0;36meval\u001b[0;34m(self, func, other, errors, try_cast, mgr)\u001b[0m\n\u001b[1;32m   1382\u001b[0m             \u001b[0;32mraise\u001b[0m\u001b[0;34m\u001b[0m\u001b[0m\n\u001b[1;32m   1383\u001b[0m         \u001b[0;32mexcept\u001b[0m \u001b[0mException\u001b[0m \u001b[0;32mas\u001b[0m \u001b[0mdetail\u001b[0m\u001b[0;34m:\u001b[0m\u001b[0;34m\u001b[0m\u001b[0m\n\u001b[0;32m-> 1384\u001b[0;31m             \u001b[0mresult\u001b[0m \u001b[0;34m=\u001b[0m \u001b[0mhandle_error\u001b[0m\u001b[0;34m(\u001b[0m\u001b[0;34m)\u001b[0m\u001b[0;34m\u001b[0m\u001b[0m\n\u001b[0m\u001b[1;32m   1385\u001b[0m \u001b[0;34m\u001b[0m\u001b[0m\n\u001b[1;32m   1386\u001b[0m         \u001b[0;31m# technically a broadcast error in numpy can 'work' by returning a\u001b[0m\u001b[0;34m\u001b[0m\u001b[0;34m\u001b[0m\u001b[0m\n",
      "\u001b[0;32m~/anaconda3/lib/python3.6/site-packages/pandas/core/internals.py\u001b[0m in \u001b[0;36mhandle_error\u001b[0;34m()\u001b[0m\n\u001b[1;32m   1365\u001b[0m                 \u001b[0;31m# The 'detail' variable is defined in outer scope.\u001b[0m\u001b[0;34m\u001b[0m\u001b[0;34m\u001b[0m\u001b[0m\n\u001b[1;32m   1366\u001b[0m                 raise TypeError('Could not operate %s with block values %s' %\n\u001b[0;32m-> 1367\u001b[0;31m                                 (repr(other), str(detail)))  # noqa\n\u001b[0m\u001b[1;32m   1368\u001b[0m             \u001b[0;32melse\u001b[0m\u001b[0;34m:\u001b[0m\u001b[0;34m\u001b[0m\u001b[0m\n\u001b[1;32m   1369\u001b[0m                 \u001b[0;31m# return the values\u001b[0m\u001b[0;34m\u001b[0m\u001b[0;34m\u001b[0m\u001b[0m\n",
      "\u001b[0;31mTypeError\u001b[0m: Could not operate 100 with block values must be str, not int"
     ]
    }
   ],
   "source": [
    "# typically we do not do arithmetic operations to entire dataframes\n",
    "employee + 100"
   ]
  },
  {
   "cell_type": "markdown",
   "metadata": {},
   "source": [
    "# Statistical Summary methods\n",
    "\n",
    "#### Basic\n",
    "* `min, max, median, mean, mode, sum, var, std, corr, cov`\n",
    "\n",
    "#### Accumulation\n",
    "* `cumsum, cummin, cummax`"
   ]
  },
  {
   "cell_type": "code",
   "execution_count": 14,
   "metadata": {},
   "outputs": [
    {
     "data": {
      "text/plain": [
       "275000.0"
      ]
     },
     "execution_count": 14,
     "metadata": {},
     "output_type": "execute_result"
    }
   ],
   "source": [
    "salary.max()"
   ]
  },
  {
   "cell_type": "code",
   "execution_count": 15,
   "metadata": {},
   "outputs": [
    {
     "data": {
      "text/plain": [
       "55767.93160127253"
      ]
     },
     "execution_count": 15,
     "metadata": {},
     "output_type": "execute_result"
    }
   ],
   "source": [
    "#shift + tab + tab brings documentation\n",
    "salary.mean()"
   ]
  },
  {
   "cell_type": "code",
   "execution_count": 18,
   "metadata": {},
   "outputs": [
    {
     "data": {
      "text/plain": [
       "0     121862.0\n",
       "1      26125.0\n",
       "2      45279.0\n",
       "3      63166.0\n",
       "4      56347.0\n",
       "5      66614.0\n",
       "6      71680.0\n",
       "7      42390.0\n",
       "8     107962.0\n",
       "9      44616.0\n",
       "10     52644.0\n",
       "11    180416.0\n",
       "12     30347.0\n",
       "13     55269.0\n",
       "14     77076.0\n",
       "Name: BASE_SALARY, dtype: float64"
      ]
     },
     "execution_count": 18,
     "metadata": {},
     "output_type": "execute_result"
    }
   ],
   "source": [
    "salary.head(15)"
   ]
  },
  {
   "cell_type": "code",
   "execution_count": 16,
   "metadata": {},
   "outputs": [
    {
     "data": {
      "text/plain": [
       "0     121862.0\n",
       "1     121862.0\n",
       "2     121862.0\n",
       "3     121862.0\n",
       "4     121862.0\n",
       "5     121862.0\n",
       "6     121862.0\n",
       "7     121862.0\n",
       "8     121862.0\n",
       "9     121862.0\n",
       "10    121862.0\n",
       "11    180416.0\n",
       "12    180416.0\n",
       "13    180416.0\n",
       "14    180416.0\n",
       "Name: BASE_SALARY, dtype: float64"
      ]
     },
     "execution_count": 16,
     "metadata": {},
     "output_type": "execute_result"
    }
   ],
   "source": [
    "salary.cummax().head(15)"
   ]
  },
  {
   "cell_type": "code",
   "execution_count": 19,
   "metadata": {},
   "outputs": [
    {
     "data": {
      "text/plain": [
       "0    66.0\n",
       "dtype: float64"
      ]
     },
     "execution_count": 19,
     "metadata": {},
     "output_type": "execute_result"
    }
   ],
   "source": [
    "(salary // 1000).mode()"
   ]
  },
  {
   "cell_type": "code",
   "execution_count": 21,
   "metadata": {},
   "outputs": [
    {
     "data": {
      "text/plain": [
       "66614.0     157\n",
       "55461.0      68\n",
       "81239.0      59\n",
       "26125.0      39\n",
       "62540.0      38\n",
       "47650.0      37\n",
       "70181.0      31\n",
       "60347.0      30\n",
       "66523.0      29\n",
       "63166.0      29\n",
       "61643.0      26\n",
       "55437.0      24\n",
       "40170.0      22\n",
       "51194.0      22\n",
       "61921.0      22\n",
       "43528.0      19\n",
       "30347.0      16\n",
       "48190.0      16\n",
       "42000.0      16\n",
       "78355.0      15\n",
       "61226.0      15\n",
       "45279.0      14\n",
       "77076.0      14\n",
       "45791.0      14\n",
       "52644.0      14\n",
       "43443.0      13\n",
       "50621.0      13\n",
       "28024.0      13\n",
       "89590.0      12\n",
       "91181.0      11\n",
       "           ... \n",
       "36150.0       1\n",
       "83174.0       1\n",
       "102297.0      1\n",
       "34507.0       1\n",
       "52000.0       1\n",
       "80791.0       1\n",
       "55939.0       1\n",
       "59530.0       1\n",
       "58040.0       1\n",
       "44970.0       1\n",
       "61589.0       1\n",
       "40000.0       1\n",
       "27102.0       1\n",
       "57034.0       1\n",
       "46675.0       1\n",
       "32115.0       1\n",
       "70565.0       1\n",
       "49275.0       1\n",
       "45906.0       1\n",
       "49691.0       1\n",
       "27414.0       1\n",
       "126115.0      1\n",
       "30493.0       1\n",
       "53832.0       1\n",
       "59613.0       1\n",
       "46426.0       1\n",
       "77000.0       1\n",
       "60237.0       1\n",
       "72932.0       1\n",
       "31595.0       1\n",
       "Name: BASE_SALARY, Length: 791, dtype: int64"
      ]
     },
     "execution_count": 21,
     "metadata": {},
     "output_type": "execute_result"
    }
   ],
   "source": [
    "salary.value_counts()"
   ]
  },
  {
   "cell_type": "code",
   "execution_count": 26,
   "metadata": {},
   "outputs": [
    {
     "data": {
      "text/plain": [
       "66000.0     194\n",
       "55000.0     106\n",
       "61000.0      69\n",
       "47000.0      65\n",
       "81000.0      63\n",
       "43000.0      57\n",
       "62000.0      50\n",
       "45000.0      48\n",
       "30000.0      47\n",
       "40000.0      46\n",
       "26000.0      44\n",
       "51000.0      44\n",
       "60000.0      43\n",
       "52000.0      41\n",
       "70000.0      39\n",
       "63000.0      38\n",
       "35000.0      36\n",
       "28000.0      35\n",
       "32000.0      35\n",
       "31000.0      33\n",
       "36000.0      32\n",
       "33000.0      31\n",
       "48000.0      31\n",
       "34000.0      30\n",
       "42000.0      30\n",
       "37000.0      30\n",
       "57000.0      28\n",
       "39000.0      27\n",
       "38000.0      26\n",
       "50000.0      26\n",
       "           ... \n",
       "102000.0      2\n",
       "97000.0       2\n",
       "94000.0       2\n",
       "150000.0      2\n",
       "130000.0      2\n",
       "82000.0       2\n",
       "117000.0      2\n",
       "107000.0      2\n",
       "124000.0      2\n",
       "146000.0      1\n",
       "178000.0      1\n",
       "115000.0      1\n",
       "142000.0      1\n",
       "85000.0       1\n",
       "180000.0      1\n",
       "24000.0       1\n",
       "113000.0      1\n",
       "210000.0      1\n",
       "165000.0      1\n",
       "122000.0      1\n",
       "275000.0      1\n",
       "121000.0      1\n",
       "163000.0      1\n",
       "141000.0      1\n",
       "125000.0      1\n",
       "186000.0      1\n",
       "114000.0      1\n",
       "140000.0      1\n",
       "128000.0      1\n",
       "199000.0      1\n",
       "Name: BASE_SALARY, Length: 107, dtype: int64"
      ]
     },
     "execution_count": 26,
     "metadata": {},
     "output_type": "execute_result"
    }
   ],
   "source": [
    "((salary // 1000)*1000).value_counts()"
   ]
  },
  {
   "cell_type": "markdown",
   "metadata": {},
   "source": [
    "# Select a string (object) column\n",
    "Strings don't play well with arithmetic operations or statistical summary methods. The most valuable method for a Series of strings is **`value_counts`**"
   ]
  },
  {
   "cell_type": "code",
   "execution_count": 28,
   "metadata": {},
   "outputs": [],
   "source": [
    "dept = employee['DEPARTMENT']"
   ]
  },
  {
   "cell_type": "code",
   "execution_count": 29,
   "metadata": {},
   "outputs": [
    {
     "data": {
      "text/plain": [
       "Houston Police Department-HPD     638\n",
       "Houston Fire Department (HFD)     384\n",
       "Public Works & Engineering-PWE    343\n",
       "Health & Human Services           110\n",
       "Houston Airport System (HAS)      106\n",
       "Parks & Recreation                 74\n",
       "Solid Waste Management             43\n",
       "Library                            36\n",
       "Fleet Management Department        36\n",
       "Admn. & Regulatory Affairs         29\n",
       "Municipal Courts Department        28\n",
       "Human Resources Dept.              24\n",
       "Houston Emergency Center (HEC)     23\n",
       "Housing and Community Devp.        22\n",
       "General Services Department        22\n",
       "Legal Department                   17\n",
       "Dept of Neighborhoods (DON)        17\n",
       "City Council                       11\n",
       "Finance                            10\n",
       "Houston Information Tech Svcs       9\n",
       "Planning & Development              7\n",
       "Mayor's Office                      5\n",
       "City Controller's Office            5\n",
       "Convention and Entertainment        1\n",
       "Name: DEPARTMENT, dtype: int64"
      ]
     },
     "execution_count": 29,
     "metadata": {},
     "output_type": "execute_result"
    }
   ],
   "source": [
    "dept.value_counts()"
   ]
  },
  {
   "cell_type": "code",
   "execution_count": 30,
   "metadata": {},
   "outputs": [
    {
     "data": {
      "text/plain": [
       "Houston Police Department-HPD     0.3190\n",
       "Houston Fire Department (HFD)     0.1920\n",
       "Public Works & Engineering-PWE    0.1715\n",
       "Health & Human Services           0.0550\n",
       "Houston Airport System (HAS)      0.0530\n",
       "Parks & Recreation                0.0370\n",
       "Solid Waste Management            0.0215\n",
       "Library                           0.0180\n",
       "Fleet Management Department       0.0180\n",
       "Admn. & Regulatory Affairs        0.0145\n",
       "Municipal Courts Department       0.0140\n",
       "Human Resources Dept.             0.0120\n",
       "Houston Emergency Center (HEC)    0.0115\n",
       "Housing and Community Devp.       0.0110\n",
       "General Services Department       0.0110\n",
       "Legal Department                  0.0085\n",
       "Dept of Neighborhoods (DON)       0.0085\n",
       "City Council                      0.0055\n",
       "Finance                           0.0050\n",
       "Houston Information Tech Svcs     0.0045\n",
       "Planning & Development            0.0035\n",
       "Mayor's Office                    0.0025\n",
       "City Controller's Office          0.0025\n",
       "Convention and Entertainment      0.0005\n",
       "Name: DEPARTMENT, dtype: float64"
      ]
     },
     "execution_count": 30,
     "metadata": {},
     "output_type": "execute_result"
    }
   ],
   "source": [
    "dept.value_counts(normalize=True)"
   ]
  },
  {
   "cell_type": "markdown",
   "metadata": {},
   "source": [
    "# The `str` accessor\n",
    "Pandas provides the `str` accessor with a few dozen dedicated string-only methods. Many of these are the same that you will find from regular Python strings."
   ]
  },
  {
   "cell_type": "code",
   "execution_count": 31,
   "metadata": {},
   "outputs": [
    {
     "name": "stdout",
     "output_type": "stream",
     "text": [
      "['capitalize', 'cat', 'center', 'contains', 'count', 'decode', 'encode', 'endswith', 'extract', 'extractall', 'find', 'findall', 'get', 'get_dummies', 'index', 'isalnum', 'isalpha', 'isdecimal', 'isdigit', 'islower', 'isnumeric', 'isspace', 'istitle', 'isupper', 'join', 'len', 'ljust', 'lower', 'lstrip', 'match', 'normalize', 'pad', 'partition', 'repeat', 'replace', 'rfind', 'rindex', 'rjust', 'rpartition', 'rsplit', 'rstrip', 'slice', 'slice_replace', 'split', 'startswith', 'strip', 'swapcase', 'title', 'translate', 'upper', 'wrap', 'zfill']\n"
     ]
    }
   ],
   "source": [
    "# a list of all the string only methods\n",
    "print([method for method in dir(dept.str) if method[0] != '_'])"
   ]
  },
  {
   "cell_type": "code",
   "execution_count": 32,
   "metadata": {},
   "outputs": [
    {
     "data": {
      "text/plain": [
       "0      Municipal Courts Department\n",
       "1                          Library\n",
       "2    Houston Police Department-HPD\n",
       "3    Houston Fire Department (HFD)\n",
       "4      General Services Department\n",
       "Name: DEPARTMENT, dtype: object"
      ]
     },
     "execution_count": 32,
     "metadata": {},
     "output_type": "execute_result"
    }
   ],
   "source": [
    "dept.head()"
   ]
  },
  {
   "cell_type": "code",
   "execution_count": 33,
   "metadata": {},
   "outputs": [
    {
     "data": {
      "text/plain": [
       "0    2\n",
       "1    1\n",
       "2    1\n",
       "3    1\n",
       "4    2\n",
       "Name: DEPARTMENT, dtype: int64"
      ]
     },
     "execution_count": 33,
     "metadata": {},
     "output_type": "execute_result"
    }
   ],
   "source": [
    "# count the appearances of the letter 'a' in each word\n",
    "dept.str.count('a').head()"
   ]
  },
  {
   "cell_type": "code",
   "execution_count": 34,
   "metadata": {},
   "outputs": [
    {
     "data": {
      "text/plain": [
       "0    False\n",
       "1    False\n",
       "2    False\n",
       "3    False\n",
       "4     True\n",
       "Name: DEPARTMENT, dtype: bool"
      ]
     },
     "execution_count": 34,
     "metadata": {},
     "output_type": "execute_result"
    }
   ],
   "source": [
    "# find all the departments with the word 'Services' in them\n",
    "dept.str.contains('Services').head()"
   ]
  },
  {
   "cell_type": "code",
   "execution_count": 36,
   "metadata": {},
   "outputs": [
    {
     "data": {
      "text/plain": [
       "Health & Human Services        110\n",
       "General Services Department     22\n",
       "Name: DEPARTMENT, dtype: int64"
      ]
     },
     "execution_count": 36,
     "metadata": {},
     "output_type": "execute_result"
    }
   ],
   "source": [
    "# can do boolean selection with Series\n",
    "has_services = dept.str.contains('Services')\n",
    "dept[has_services].value_counts()"
   ]
  },
  {
   "cell_type": "markdown",
   "metadata": {},
   "source": [
    "# Boolean Arithmetic\n",
    "Boolean values True/False are treated the same as 1/0 and some interesting calculations can be had."
   ]
  },
  {
   "cell_type": "code",
   "execution_count": 37,
   "metadata": {},
   "outputs": [
    {
     "data": {
      "text/plain": [
       "132"
      ]
     },
     "execution_count": 37,
     "metadata": {},
     "output_type": "execute_result"
    }
   ],
   "source": [
    "has_services.sum()"
   ]
  },
  {
   "cell_type": "code",
   "execution_count": 38,
   "metadata": {},
   "outputs": [
    {
     "data": {
      "text/plain": [
       "0.066"
      ]
     },
     "execution_count": 38,
     "metadata": {},
     "output_type": "execute_result"
    }
   ],
   "source": [
    "has_services.mean()"
   ]
  },
  {
   "cell_type": "markdown",
   "metadata": {},
   "source": [
    "# Case Study: Do people with more experience make more money?\n",
    "To answer this question, the number of years of experience needs to be calculated from the column **HIRE_DATE**. **datetime** columns can be subtracted from one another. We will use the date that the data was generated which was around December, 2016."
   ]
  },
  {
   "cell_type": "code",
   "execution_count": 39,
   "metadata": {},
   "outputs": [
    {
     "data": {
      "text/plain": [
       "Timestamp('2016-12-01 00:00:00')"
      ]
     },
     "execution_count": 39,
     "metadata": {},
     "output_type": "execute_result"
    }
   ],
   "source": [
    "pull_date = pd.Timestamp('2016-12-1')\n",
    "pull_date"
   ]
  },
  {
   "cell_type": "markdown",
   "metadata": {},
   "source": [
    "## Reading in Dates\n",
    "It is possible to read in dates correctly using **`read_csv`**. Use a list of the column names you would like to be dates as the argument for the **`parse_dates`** parameter."
   ]
  },
  {
   "cell_type": "code",
   "execution_count": 40,
   "metadata": {},
   "outputs": [
    {
     "data": {
      "text/plain": [
       "UNIQUE_ID                     int64\n",
       "POSITION_TITLE               object\n",
       "DEPARTMENT                   object\n",
       "BASE_SALARY                 float64\n",
       "RACE                         object\n",
       "EMPLOYMENT_TYPE              object\n",
       "GENDER                       object\n",
       "EMPLOYMENT_STATUS            object\n",
       "HIRE_DATE            datetime64[ns]\n",
       "JOB_DATE             datetime64[ns]\n",
       "dtype: object"
      ]
     },
     "execution_count": 40,
     "metadata": {},
     "output_type": "execute_result"
    }
   ],
   "source": [
    "employee = pd.read_csv('data/employee.csv', parse_dates=['HIRE_DATE', 'JOB_DATE'])\n",
    "employee.dtypes"
   ]
  },
  {
   "cell_type": "code",
   "execution_count": 41,
   "metadata": {},
   "outputs": [
    {
     "data": {
      "text/plain": [
       "0    3825 days\n",
       "1    5979 days\n",
       "2     667 days\n",
       "3   12715 days\n",
       "4   10027 days\n",
       "Name: HIRE_DATE, dtype: timedelta64[ns]"
      ]
     },
     "execution_count": 41,
     "metadata": {},
     "output_type": "execute_result"
    }
   ],
   "source": [
    "# subtract the hire date from today to get the number of days of experience\n",
    "experience = pull_date - employee['HIRE_DATE']\n",
    "\n",
    "# print out head of series\n",
    "experience.head()"
   ]
  },
  {
   "cell_type": "markdown",
   "metadata": {},
   "source": [
    "### Converting to years\n",
    "Notice that the data type is now **timedelta64** which represents an amount of time in days. To convert this to years an esoteric command must be run. [See here for more detail](http://pandas.pydata.org/pandas-docs/stable/timedeltas.html#frequency-conversion)"
   ]
  },
  {
   "cell_type": "code",
   "execution_count": 42,
   "metadata": {},
   "outputs": [
    {
     "data": {
      "text/plain": [
       "0    10.472494\n",
       "1    16.369946\n",
       "2     1.826184\n",
       "3    34.812488\n",
       "4    27.452994\n",
       "Name: HIRE_DATE, dtype: float64"
      ]
     },
     "execution_count": 42,
     "metadata": {},
     "output_type": "execute_result"
    }
   ],
   "source": [
    "# convert to years\n",
    "years_experience = experience / pd.Timedelta(1, 'Y')\n",
    "\n",
    "# inspect and check that it makes sense\n",
    "years_experience.head()"
   ]
  },
  {
   "cell_type": "code",
   "execution_count": 46,
   "metadata": {},
   "outputs": [],
   "source": [
    "# Make a new column\n",
    "employee['YEARS_EXPERIENCE'] = years_experience"
   ]
  },
  {
   "cell_type": "code",
   "execution_count": 47,
   "metadata": {},
   "outputs": [
    {
     "data": {
      "text/html": [
       "<div>\n",
       "<style scoped>\n",
       "    .dataframe tbody tr th:only-of-type {\n",
       "        vertical-align: middle;\n",
       "    }\n",
       "\n",
       "    .dataframe tbody tr th {\n",
       "        vertical-align: top;\n",
       "    }\n",
       "\n",
       "    .dataframe thead th {\n",
       "        text-align: right;\n",
       "    }\n",
       "</style>\n",
       "<table border=\"1\" class=\"dataframe\">\n",
       "  <thead>\n",
       "    <tr style=\"text-align: right;\">\n",
       "      <th></th>\n",
       "      <th>UNIQUE_ID</th>\n",
       "      <th>POSITION_TITLE</th>\n",
       "      <th>DEPARTMENT</th>\n",
       "      <th>BASE_SALARY</th>\n",
       "      <th>RACE</th>\n",
       "      <th>EMPLOYMENT_TYPE</th>\n",
       "      <th>GENDER</th>\n",
       "      <th>EMPLOYMENT_STATUS</th>\n",
       "      <th>HIRE_DATE</th>\n",
       "      <th>JOB_DATE</th>\n",
       "      <th>YEARS_EXPERIENCE</th>\n",
       "    </tr>\n",
       "  </thead>\n",
       "  <tbody>\n",
       "    <tr>\n",
       "      <th>0</th>\n",
       "      <td>5906</td>\n",
       "      <td>ASSISTANT DIRECTOR (EX LVL)</td>\n",
       "      <td>Municipal Courts Department</td>\n",
       "      <td>121862.0</td>\n",
       "      <td>Hispanic/Latino</td>\n",
       "      <td>Full Time</td>\n",
       "      <td>Female</td>\n",
       "      <td>Active</td>\n",
       "      <td>2006-06-12</td>\n",
       "      <td>2012-10-13</td>\n",
       "      <td>10.472494</td>\n",
       "    </tr>\n",
       "    <tr>\n",
       "      <th>1</th>\n",
       "      <td>364</td>\n",
       "      <td>LIBRARY ASSISTANT</td>\n",
       "      <td>Library</td>\n",
       "      <td>26125.0</td>\n",
       "      <td>Hispanic/Latino</td>\n",
       "      <td>Full Time</td>\n",
       "      <td>Female</td>\n",
       "      <td>Active</td>\n",
       "      <td>2000-07-19</td>\n",
       "      <td>2010-09-18</td>\n",
       "      <td>16.369946</td>\n",
       "    </tr>\n",
       "    <tr>\n",
       "      <th>2</th>\n",
       "      <td>1286</td>\n",
       "      <td>POLICE OFFICER</td>\n",
       "      <td>Houston Police Department-HPD</td>\n",
       "      <td>45279.0</td>\n",
       "      <td>White</td>\n",
       "      <td>Full Time</td>\n",
       "      <td>Male</td>\n",
       "      <td>Active</td>\n",
       "      <td>2015-02-03</td>\n",
       "      <td>2015-02-03</td>\n",
       "      <td>1.826184</td>\n",
       "    </tr>\n",
       "    <tr>\n",
       "      <th>3</th>\n",
       "      <td>8789</td>\n",
       "      <td>ENGINEER/OPERATOR</td>\n",
       "      <td>Houston Fire Department (HFD)</td>\n",
       "      <td>63166.0</td>\n",
       "      <td>White</td>\n",
       "      <td>Full Time</td>\n",
       "      <td>Male</td>\n",
       "      <td>Active</td>\n",
       "      <td>1982-02-08</td>\n",
       "      <td>1991-05-25</td>\n",
       "      <td>34.812488</td>\n",
       "    </tr>\n",
       "    <tr>\n",
       "      <th>4</th>\n",
       "      <td>8542</td>\n",
       "      <td>ELECTRICIAN</td>\n",
       "      <td>General Services Department</td>\n",
       "      <td>56347.0</td>\n",
       "      <td>White</td>\n",
       "      <td>Full Time</td>\n",
       "      <td>Male</td>\n",
       "      <td>Active</td>\n",
       "      <td>1989-06-19</td>\n",
       "      <td>1994-10-22</td>\n",
       "      <td>27.452994</td>\n",
       "    </tr>\n",
       "  </tbody>\n",
       "</table>\n",
       "</div>"
      ],
      "text/plain": [
       "   UNIQUE_ID               POSITION_TITLE                     DEPARTMENT  \\\n",
       "0       5906  ASSISTANT DIRECTOR (EX LVL)    Municipal Courts Department   \n",
       "1        364            LIBRARY ASSISTANT                        Library   \n",
       "2       1286               POLICE OFFICER  Houston Police Department-HPD   \n",
       "3       8789            ENGINEER/OPERATOR  Houston Fire Department (HFD)   \n",
       "4       8542                  ELECTRICIAN    General Services Department   \n",
       "\n",
       "   BASE_SALARY             RACE EMPLOYMENT_TYPE  GENDER EMPLOYMENT_STATUS  \\\n",
       "0     121862.0  Hispanic/Latino       Full Time  Female            Active   \n",
       "1      26125.0  Hispanic/Latino       Full Time  Female            Active   \n",
       "2      45279.0            White       Full Time    Male            Active   \n",
       "3      63166.0            White       Full Time    Male            Active   \n",
       "4      56347.0            White       Full Time    Male            Active   \n",
       "\n",
       "   HIRE_DATE   JOB_DATE  YEARS_EXPERIENCE  \n",
       "0 2006-06-12 2012-10-13         10.472494  \n",
       "1 2000-07-19 2010-09-18         16.369946  \n",
       "2 2015-02-03 2015-02-03          1.826184  \n",
       "3 1982-02-08 1991-05-25         34.812488  \n",
       "4 1989-06-19 1994-10-22         27.452994  "
      ]
     },
     "execution_count": 47,
     "metadata": {},
     "output_type": "execute_result"
    }
   ],
   "source": [
    "employee.head()"
   ]
  },
  {
   "cell_type": "markdown",
   "metadata": {},
   "source": [
    "### Creating categories for years of experience\n",
    "It's possible to divide numerical columns into different categories based on their value. The pandas **cut** function accepts a Series or an array and a list of the edges of the **bins**. Each category can be given a **label** as well. A series is returned that is of **categorical** type - unique to Pandas. [More on categorical data](http://pandas.pydata.org/pandas-docs/stable/categorical.html)"
   ]
  },
  {
   "cell_type": "code",
   "execution_count": 48,
   "metadata": {},
   "outputs": [],
   "source": [
    "# create Series of categorical data\n",
    "exp_categories = pd.cut(years_experience, bins=[0, 5, 15, 100], labels=['Novice', 'Experienced', 'Senior'])"
   ]
  },
  {
   "cell_type": "code",
   "execution_count": 49,
   "metadata": {},
   "outputs": [
    {
     "data": {
      "text/plain": [
       "0    Experienced\n",
       "1         Senior\n",
       "2         Novice\n",
       "3         Senior\n",
       "4         Senior\n",
       "5         Senior\n",
       "6         Novice\n",
       "7         Novice\n",
       "8         Senior\n",
       "9         Novice\n",
       "Name: HIRE_DATE, dtype: category\n",
       "Categories (3, object): [Novice < Experienced < Senior]"
      ]
     },
     "execution_count": 49,
     "metadata": {},
     "output_type": "execute_result"
    }
   ],
   "source": [
    "# inspect Seriers\n",
    "exp_categories.head(10)"
   ]
  },
  {
   "cell_type": "code",
   "execution_count": 50,
   "metadata": {},
   "outputs": [
    {
     "data": {
      "text/plain": [
       "Senior         806\n",
       "Experienced    663\n",
       "Novice         531\n",
       "Name: HIRE_DATE, dtype: int64"
      ]
     },
     "execution_count": 50,
     "metadata": {},
     "output_type": "execute_result"
    }
   ],
   "source": [
    "# get some summary statistics\n",
    "exp_categories.value_counts()"
   ]
  },
  {
   "cell_type": "code",
   "execution_count": 53,
   "metadata": {},
   "outputs": [],
   "source": [
    "# Create new column\n",
    "employee['EXPERIENCE_LEVEL'] = exp_categories"
   ]
  },
  {
   "cell_type": "code",
   "execution_count": 54,
   "metadata": {},
   "outputs": [
    {
     "data": {
      "text/html": [
       "<div>\n",
       "<style scoped>\n",
       "    .dataframe tbody tr th:only-of-type {\n",
       "        vertical-align: middle;\n",
       "    }\n",
       "\n",
       "    .dataframe tbody tr th {\n",
       "        vertical-align: top;\n",
       "    }\n",
       "\n",
       "    .dataframe thead th {\n",
       "        text-align: right;\n",
       "    }\n",
       "</style>\n",
       "<table border=\"1\" class=\"dataframe\">\n",
       "  <thead>\n",
       "    <tr style=\"text-align: right;\">\n",
       "      <th></th>\n",
       "      <th>UNIQUE_ID</th>\n",
       "      <th>POSITION_TITLE</th>\n",
       "      <th>DEPARTMENT</th>\n",
       "      <th>BASE_SALARY</th>\n",
       "      <th>RACE</th>\n",
       "      <th>EMPLOYMENT_TYPE</th>\n",
       "      <th>GENDER</th>\n",
       "      <th>EMPLOYMENT_STATUS</th>\n",
       "      <th>HIRE_DATE</th>\n",
       "      <th>JOB_DATE</th>\n",
       "      <th>YEARS_EXPERIENCE</th>\n",
       "      <th>EXPERIENCE_LEVEL</th>\n",
       "    </tr>\n",
       "  </thead>\n",
       "  <tbody>\n",
       "    <tr>\n",
       "      <th>0</th>\n",
       "      <td>5906</td>\n",
       "      <td>ASSISTANT DIRECTOR (EX LVL)</td>\n",
       "      <td>Municipal Courts Department</td>\n",
       "      <td>121862.0</td>\n",
       "      <td>Hispanic/Latino</td>\n",
       "      <td>Full Time</td>\n",
       "      <td>Female</td>\n",
       "      <td>Active</td>\n",
       "      <td>2006-06-12</td>\n",
       "      <td>2012-10-13</td>\n",
       "      <td>10.472494</td>\n",
       "      <td>Experienced</td>\n",
       "    </tr>\n",
       "    <tr>\n",
       "      <th>1</th>\n",
       "      <td>364</td>\n",
       "      <td>LIBRARY ASSISTANT</td>\n",
       "      <td>Library</td>\n",
       "      <td>26125.0</td>\n",
       "      <td>Hispanic/Latino</td>\n",
       "      <td>Full Time</td>\n",
       "      <td>Female</td>\n",
       "      <td>Active</td>\n",
       "      <td>2000-07-19</td>\n",
       "      <td>2010-09-18</td>\n",
       "      <td>16.369946</td>\n",
       "      <td>Senior</td>\n",
       "    </tr>\n",
       "    <tr>\n",
       "      <th>2</th>\n",
       "      <td>1286</td>\n",
       "      <td>POLICE OFFICER</td>\n",
       "      <td>Houston Police Department-HPD</td>\n",
       "      <td>45279.0</td>\n",
       "      <td>White</td>\n",
       "      <td>Full Time</td>\n",
       "      <td>Male</td>\n",
       "      <td>Active</td>\n",
       "      <td>2015-02-03</td>\n",
       "      <td>2015-02-03</td>\n",
       "      <td>1.826184</td>\n",
       "      <td>Novice</td>\n",
       "    </tr>\n",
       "    <tr>\n",
       "      <th>3</th>\n",
       "      <td>8789</td>\n",
       "      <td>ENGINEER/OPERATOR</td>\n",
       "      <td>Houston Fire Department (HFD)</td>\n",
       "      <td>63166.0</td>\n",
       "      <td>White</td>\n",
       "      <td>Full Time</td>\n",
       "      <td>Male</td>\n",
       "      <td>Active</td>\n",
       "      <td>1982-02-08</td>\n",
       "      <td>1991-05-25</td>\n",
       "      <td>34.812488</td>\n",
       "      <td>Senior</td>\n",
       "    </tr>\n",
       "    <tr>\n",
       "      <th>4</th>\n",
       "      <td>8542</td>\n",
       "      <td>ELECTRICIAN</td>\n",
       "      <td>General Services Department</td>\n",
       "      <td>56347.0</td>\n",
       "      <td>White</td>\n",
       "      <td>Full Time</td>\n",
       "      <td>Male</td>\n",
       "      <td>Active</td>\n",
       "      <td>1989-06-19</td>\n",
       "      <td>1994-10-22</td>\n",
       "      <td>27.452994</td>\n",
       "      <td>Senior</td>\n",
       "    </tr>\n",
       "  </tbody>\n",
       "</table>\n",
       "</div>"
      ],
      "text/plain": [
       "   UNIQUE_ID               POSITION_TITLE                     DEPARTMENT  \\\n",
       "0       5906  ASSISTANT DIRECTOR (EX LVL)    Municipal Courts Department   \n",
       "1        364            LIBRARY ASSISTANT                        Library   \n",
       "2       1286               POLICE OFFICER  Houston Police Department-HPD   \n",
       "3       8789            ENGINEER/OPERATOR  Houston Fire Department (HFD)   \n",
       "4       8542                  ELECTRICIAN    General Services Department   \n",
       "\n",
       "   BASE_SALARY             RACE EMPLOYMENT_TYPE  GENDER EMPLOYMENT_STATUS  \\\n",
       "0     121862.0  Hispanic/Latino       Full Time  Female            Active   \n",
       "1      26125.0  Hispanic/Latino       Full Time  Female            Active   \n",
       "2      45279.0            White       Full Time    Male            Active   \n",
       "3      63166.0            White       Full Time    Male            Active   \n",
       "4      56347.0            White       Full Time    Male            Active   \n",
       "\n",
       "   HIRE_DATE   JOB_DATE  YEARS_EXPERIENCE EXPERIENCE_LEVEL  \n",
       "0 2006-06-12 2012-10-13         10.472494      Experienced  \n",
       "1 2000-07-19 2010-09-18         16.369946           Senior  \n",
       "2 2015-02-03 2015-02-03          1.826184           Novice  \n",
       "3 1982-02-08 1991-05-25         34.812488           Senior  \n",
       "4 1989-06-19 1994-10-22         27.452994           Senior  "
      ]
     },
     "execution_count": 54,
     "metadata": {},
     "output_type": "execute_result"
    }
   ],
   "source": [
    "employee.head()"
   ]
  },
  {
   "cell_type": "markdown",
   "metadata": {},
   "source": [
    "### Now find the average salary for each experience level"
   ]
  },
  {
   "cell_type": "code",
   "execution_count": null,
   "metadata": {},
   "outputs": [],
   "source": [
    "# your code here"
   ]
  },
  {
   "cell_type": "code",
   "execution_count": 72,
   "metadata": {},
   "outputs": [
    {
     "data": {
      "text/plain": [
       "55264.92867981791"
      ]
     },
     "execution_count": 72,
     "metadata": {},
     "output_type": "execute_result"
    }
   ],
   "source": [
    "exp_lvl_sr=employee['EXPERIENCE_LEVEL'] == 'Senior'\n",
    "exp_lvl_nv=employee['EXPERIENCE_LEVEL'] == 'Novice'\n",
    "exp_lvl_exp=employee['EXPERIENCE_LEVEL'] == 'Experienced'\n",
    "\n",
    "senior=employee[exp_lvl_sr]\n",
    "\n",
    "novice=employee[exp_lvl_nv]\n",
    "\n",
    "experienced=employee[exp_lvl_exp]\n",
    "\n",
    "senior['BASE_SALARY'].mean()\n",
    "\n",
    "novice['BASE_SALARY'].mean()\n",
    "\n",
    "experienced['BASE_SALARY'].mean()\n"
   ]
  },
  {
   "cell_type": "markdown",
   "metadata": {},
   "source": [
    "### Problem 1\n",
    "<span  style=\"color:green; font-size:16px\">Find the percentage of each race</span>"
   ]
  },
  {
   "cell_type": "code",
   "execution_count": 75,
   "metadata": {},
   "outputs": [
    {
     "data": {
      "text/plain": [
       "Black or African American            0.356234\n",
       "White                                0.338422\n",
       "Hispanic/Latino                      0.244275\n",
       "Asian/Pacific Islander               0.054453\n",
       "American Indian or Alaskan Native    0.005598\n",
       "Others                               0.001018\n",
       "Name: RACE, dtype: float64"
      ]
     },
     "execution_count": 75,
     "metadata": {},
     "output_type": "execute_result"
    }
   ],
   "source": [
    "# your code here\n",
    "\n",
    "employee['RACE'].value_counts(normalize='True')"
   ]
  },
  {
   "cell_type": "markdown",
   "metadata": {},
   "source": [
    "### Problem 2\n",
    "<span  style=\"color:green; font-size:16px\">Sum the percentages found in problem 1. Do they add to 1?</span>"
   ]
  },
  {
   "cell_type": "code",
   "execution_count": 76,
   "metadata": {},
   "outputs": [
    {
     "data": {
      "text/plain": [
       "1.0"
      ]
     },
     "execution_count": 76,
     "metadata": {},
     "output_type": "execute_result"
    }
   ],
   "source": [
    "# your code here\n",
    "employee['RACE'].value_counts(normalize='True').sum()"
   ]
  },
  {
   "cell_type": "markdown",
   "metadata": {},
   "source": [
    "### Problem 3\n",
    "<span  style=\"color:green; font-size:16px\">How many people make over $100,000?</span>"
   ]
  },
  {
   "cell_type": "code",
   "execution_count": 79,
   "metadata": {},
   "outputs": [
    {
     "data": {
      "text/plain": [
       "57"
      ]
     },
     "execution_count": 79,
     "metadata": {},
     "output_type": "execute_result"
    }
   ],
   "source": [
    "# your code here\n",
    "ppl_list=employee['BASE_SALARY'] > 100000\n",
    "ppl_list.sum()"
   ]
  },
  {
   "cell_type": "markdown",
   "metadata": {},
   "source": [
    "### Problem 4\n",
    "<span  style=\"color:green; font-size:16px\">What percentage of those who make over $100,000 are women? Compare this ratio to that of the whole population</span>"
   ]
  },
  {
   "cell_type": "code",
   "execution_count": 100,
   "metadata": {},
   "outputs": [
    {
     "data": {
      "text/plain": [
       "0.3684210526315789"
      ]
     },
     "execution_count": 100,
     "metadata": {},
     "output_type": "execute_result"
    }
   ],
   "source": [
    "# your code here\n",
    "ppl_gndr=(employee['BASE_SALARY'] > 100000) &  (employee['GENDER']=='Female')\n",
    "ppl_gndr.sum()/ppl_list.sum()"
   ]
  },
  {
   "cell_type": "markdown",
   "metadata": {},
   "source": [
    "### Problem 5\n",
    "<span  style=\"color:green; font-size:16px\">Find the count of each position title that has the word **POLICE** in it.</span>"
   ]
  },
  {
   "cell_type": "code",
   "execution_count": 104,
   "metadata": {},
   "outputs": [
    {
     "data": {
      "text/plain": [
       "SENIOR POLICE OFFICER             220\n",
       "POLICE OFFICER                    184\n",
       "POLICE SERGEANT                    98\n",
       "POLICE LIEUTENANT                  18\n",
       "POLICE OFFICER,PROBATIONARY        15\n",
       "POLICE CAPTAIN                      6\n",
       "SENIOR POLICE SERVICE OFFICER       5\n",
       "POLICE TRAINEE                      5\n",
       "POLICE TELECOMMUNICATOR             4\n",
       "POLICE SERVICE OFFICER              4\n",
       "SENIOR POLICE TELECOMMUNICATOR      3\n",
       "Name: POSITION_TITLE, dtype: int64"
      ]
     },
     "execution_count": 104,
     "metadata": {},
     "output_type": "execute_result"
    }
   ],
   "source": [
    "# your code here\n",
    "police=employee['POSITION_TITLE'].str.contains('POLICE')\n",
    "pt=employee['POSITION_TITLE']\n",
    "pt[police].value_counts()"
   ]
  },
  {
   "cell_type": "markdown",
   "metadata": {},
   "source": [
    "# Solutions"
   ]
  },
  {
   "cell_type": "markdown",
   "metadata": {},
   "source": [
    "### Problem 1\n",
    "<span  style=\"color:green; font-size:16px\">Find the percentage of each race</span>"
   ]
  },
  {
   "cell_type": "code",
   "execution_count": 89,
   "metadata": {},
   "outputs": [
    {
     "data": {
      "text/plain": [
       "Black or African American            0.356234\n",
       "White                                0.338422\n",
       "Hispanic/Latino                      0.244275\n",
       "Asian/Pacific Islander               0.054453\n",
       "American Indian or Alaskan Native    0.005598\n",
       "Others                               0.001018\n",
       "Name: RACE, dtype: float64"
      ]
     },
     "execution_count": 89,
     "metadata": {},
     "output_type": "execute_result"
    }
   ],
   "source": [
    "employee['RACE'].value_counts(normalize=True)"
   ]
  },
  {
   "cell_type": "markdown",
   "metadata": {},
   "source": [
    "### Problem 2\n",
    "<span  style=\"color:green; font-size:16px\">Sum the percentages found in problem 1. Do they add to 1?</span>"
   ]
  },
  {
   "cell_type": "code",
   "execution_count": 90,
   "metadata": {},
   "outputs": [
    {
     "data": {
      "text/plain": [
       "1.0"
      ]
     },
     "execution_count": 90,
     "metadata": {},
     "output_type": "execute_result"
    }
   ],
   "source": [
    "employee['RACE'].value_counts(normalize=True).sum()"
   ]
  },
  {
   "cell_type": "markdown",
   "metadata": {},
   "source": [
    "### Problem 3\n",
    "<span  style=\"color:green; font-size:16px\">How many people make over $100,000?</span>"
   ]
  },
  {
   "cell_type": "code",
   "execution_count": 94,
   "metadata": {},
   "outputs": [
    {
     "data": {
      "text/plain": [
       "57"
      ]
     },
     "execution_count": 94,
     "metadata": {},
     "output_type": "execute_result"
    }
   ],
   "source": [
    "gt_100 = employee['BASE_SALARY'] > 100000\n",
    "gt_100.sum()"
   ]
  },
  {
   "cell_type": "markdown",
   "metadata": {},
   "source": [
    "### Problem 4\n",
    "<span  style=\"color:green; font-size:16px\">What percentage of those who make over $100,000 are women?</span>"
   ]
  },
  {
   "cell_type": "code",
   "execution_count": 92,
   "metadata": {},
   "outputs": [
    {
     "data": {
      "text/html": [
       "<div>\n",
       "<style scoped>\n",
       "    .dataframe tbody tr th:only-of-type {\n",
       "        vertical-align: middle;\n",
       "    }\n",
       "\n",
       "    .dataframe tbody tr th {\n",
       "        vertical-align: top;\n",
       "    }\n",
       "\n",
       "    .dataframe thead th {\n",
       "        text-align: right;\n",
       "    }\n",
       "</style>\n",
       "<table border=\"1\" class=\"dataframe\">\n",
       "  <thead>\n",
       "    <tr style=\"text-align: right;\">\n",
       "      <th></th>\n",
       "      <th>UNIQUE_ID</th>\n",
       "      <th>POSITION_TITLE</th>\n",
       "      <th>DEPARTMENT</th>\n",
       "      <th>BASE_SALARY</th>\n",
       "      <th>RACE</th>\n",
       "      <th>EMPLOYMENT_TYPE</th>\n",
       "      <th>GENDER</th>\n",
       "      <th>EMPLOYMENT_STATUS</th>\n",
       "      <th>HIRE_DATE</th>\n",
       "      <th>JOB_DATE</th>\n",
       "      <th>YEARS_EXPERIENCE</th>\n",
       "      <th>EXPERIENCE_LEVEL</th>\n",
       "    </tr>\n",
       "  </thead>\n",
       "  <tbody>\n",
       "    <tr>\n",
       "      <th>0</th>\n",
       "      <td>5906</td>\n",
       "      <td>ASSISTANT DIRECTOR (EX LVL)</td>\n",
       "      <td>Municipal Courts Department</td>\n",
       "      <td>121862.0</td>\n",
       "      <td>Hispanic/Latino</td>\n",
       "      <td>Full Time</td>\n",
       "      <td>Female</td>\n",
       "      <td>Active</td>\n",
       "      <td>2006-06-12</td>\n",
       "      <td>2012-10-13</td>\n",
       "      <td>10.472494</td>\n",
       "      <td>Experienced</td>\n",
       "    </tr>\n",
       "    <tr>\n",
       "      <th>8</th>\n",
       "      <td>8172</td>\n",
       "      <td>DEPUTY ASSISTANT DIRECTOR (EXECUTIVE LEV</td>\n",
       "      <td>Public Works &amp; Engineering-PWE</td>\n",
       "      <td>107962.0</td>\n",
       "      <td>White</td>\n",
       "      <td>Full Time</td>\n",
       "      <td>Male</td>\n",
       "      <td>Active</td>\n",
       "      <td>1993-11-15</td>\n",
       "      <td>2013-01-05</td>\n",
       "      <td>23.044963</td>\n",
       "      <td>Senior</td>\n",
       "    </tr>\n",
       "    <tr>\n",
       "      <th>11</th>\n",
       "      <td>3347</td>\n",
       "      <td>CHIEF PHYSICIAN,MD</td>\n",
       "      <td>Health &amp; Human Services</td>\n",
       "      <td>180416.0</td>\n",
       "      <td>Black or African American</td>\n",
       "      <td>Full Time</td>\n",
       "      <td>Male</td>\n",
       "      <td>Active</td>\n",
       "      <td>1987-05-22</td>\n",
       "      <td>1999-08-28</td>\n",
       "      <td>29.531065</td>\n",
       "      <td>Senior</td>\n",
       "    </tr>\n",
       "    <tr>\n",
       "      <th>43</th>\n",
       "      <td>3982</td>\n",
       "      <td>ASSOCIATE EMS PHYSICIAN DIRECTOR</td>\n",
       "      <td>Houston Fire Department (HFD)</td>\n",
       "      <td>165216.0</td>\n",
       "      <td>Hispanic/Latino</td>\n",
       "      <td>Full Time</td>\n",
       "      <td>Male</td>\n",
       "      <td>Active</td>\n",
       "      <td>2013-08-31</td>\n",
       "      <td>2013-08-31</td>\n",
       "      <td>3.252634</td>\n",
       "      <td>Novice</td>\n",
       "    </tr>\n",
       "    <tr>\n",
       "      <th>66</th>\n",
       "      <td>7369</td>\n",
       "      <td>PUBLIC HEALTH DENTIST,DDS</td>\n",
       "      <td>Health &amp; Human Services</td>\n",
       "      <td>100791.0</td>\n",
       "      <td>White</td>\n",
       "      <td>Full Time</td>\n",
       "      <td>Female</td>\n",
       "      <td>Active</td>\n",
       "      <td>2015-12-28</td>\n",
       "      <td>2015-12-28</td>\n",
       "      <td>0.928150</td>\n",
       "      <td>Novice</td>\n",
       "    </tr>\n",
       "  </tbody>\n",
       "</table>\n",
       "</div>"
      ],
      "text/plain": [
       "    UNIQUE_ID                            POSITION_TITLE  \\\n",
       "0        5906               ASSISTANT DIRECTOR (EX LVL)   \n",
       "8        8172  DEPUTY ASSISTANT DIRECTOR (EXECUTIVE LEV   \n",
       "11       3347                        CHIEF PHYSICIAN,MD   \n",
       "43       3982          ASSOCIATE EMS PHYSICIAN DIRECTOR   \n",
       "66       7369                 PUBLIC HEALTH DENTIST,DDS   \n",
       "\n",
       "                        DEPARTMENT  BASE_SALARY                       RACE  \\\n",
       "0      Municipal Courts Department     121862.0            Hispanic/Latino   \n",
       "8   Public Works & Engineering-PWE     107962.0                      White   \n",
       "11         Health & Human Services     180416.0  Black or African American   \n",
       "43   Houston Fire Department (HFD)     165216.0            Hispanic/Latino   \n",
       "66         Health & Human Services     100791.0                      White   \n",
       "\n",
       "   EMPLOYMENT_TYPE  GENDER EMPLOYMENT_STATUS  HIRE_DATE   JOB_DATE  \\\n",
       "0        Full Time  Female            Active 2006-06-12 2012-10-13   \n",
       "8        Full Time    Male            Active 1993-11-15 2013-01-05   \n",
       "11       Full Time    Male            Active 1987-05-22 1999-08-28   \n",
       "43       Full Time    Male            Active 2013-08-31 2013-08-31   \n",
       "66       Full Time  Female            Active 2015-12-28 2015-12-28   \n",
       "\n",
       "    YEARS_EXPERIENCE EXPERIENCE_LEVEL  \n",
       "0          10.472494      Experienced  \n",
       "8          23.044963           Senior  \n",
       "11         29.531065           Senior  \n",
       "43          3.252634           Novice  \n",
       "66          0.928150           Novice  "
      ]
     },
     "execution_count": 92,
     "metadata": {},
     "output_type": "execute_result"
    }
   ],
   "source": [
    "gt_100 = employee['BASE_SALARY'] > 100000\n",
    "df_gt_100 = employee[gt_100]\n",
    "df_gt_100.head()"
   ]
  },
  {
   "cell_type": "code",
   "execution_count": 93,
   "metadata": {},
   "outputs": [
    {
     "data": {
      "text/plain": [
       "Male      0.631579\n",
       "Female    0.368421\n",
       "Name: GENDER, dtype: float64"
      ]
     },
     "execution_count": 93,
     "metadata": {},
     "output_type": "execute_result"
    }
   ],
   "source": [
    "df_gt_100['GENDER'].value_counts(normalize=True)"
   ]
  },
  {
   "cell_type": "code",
   "execution_count": null,
   "metadata": {},
   "outputs": [],
   "source": [
    "employee['GENDER'].value_counts(normalize=True)"
   ]
  },
  {
   "cell_type": "markdown",
   "metadata": {},
   "source": [
    "### Problem 5\n",
    "<span  style=\"color:green; font-size:16px\">Find the count of each position title that has the word **POLICE** in it.</span>"
   ]
  },
  {
   "cell_type": "code",
   "execution_count": 101,
   "metadata": {},
   "outputs": [
    {
     "data": {
      "text/plain": [
       "SENIOR POLICE OFFICER             220\n",
       "POLICE OFFICER                    184\n",
       "POLICE SERGEANT                    98\n",
       "POLICE LIEUTENANT                  18\n",
       "POLICE OFFICER,PROBATIONARY        15\n",
       "POLICE CAPTAIN                      6\n",
       "SENIOR POLICE SERVICE OFFICER       5\n",
       "POLICE TRAINEE                      5\n",
       "POLICE TELECOMMUNICATOR             4\n",
       "POLICE SERVICE OFFICER              4\n",
       "SENIOR POLICE TELECOMMUNICATOR      3\n",
       "Name: POSITION_TITLE, dtype: int64"
      ]
     },
     "execution_count": 101,
     "metadata": {},
     "output_type": "execute_result"
    }
   ],
   "source": [
    "pt = employee['POSITION_TITLE']\n",
    "has_police = pt.str.contains('POLICE')\n",
    "pt[has_police].value_counts()"
   ]
  },
  {
   "cell_type": "code",
   "execution_count": null,
   "metadata": {},
   "outputs": [],
   "source": []
  }
 ],
 "metadata": {
  "kernelspec": {
   "display_name": "Python 3",
   "language": "python",
   "name": "python3"
  },
  "language_info": {
   "codemirror_mode": {
    "name": "ipython",
    "version": 3
   },
   "file_extension": ".py",
   "mimetype": "text/x-python",
   "name": "python",
   "nbconvert_exporter": "python",
   "pygments_lexer": "ipython3",
   "version": "3.6.5"
  }
 },
 "nbformat": 4,
 "nbformat_minor": 2
}
